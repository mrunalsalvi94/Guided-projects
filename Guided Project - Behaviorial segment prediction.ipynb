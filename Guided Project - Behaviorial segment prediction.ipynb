{
 "cells": [
  {
   "cell_type": "markdown",
   "metadata": {},
   "source": [
    "# Correct segment prediction\n",
    "\n",
    "### Project overview:\n",
    "- This problem marks the importance of behaviorial segmentation in python. \n",
    "- Through this behavioral segementation retailer strategize it's marketing, promotion and loyality Strategy.\n",
    "\n",
    "#### Dataset:\n",
    "- The Dataset contains 4999 entries and the 26 features.\n",
    "- This dataset is a real dataset for one of the biggest retailers based out of west cost. \n",
    "\n",
    "#### Objective:\n",
    "Our aim is the build a multi classfication model that will predict the correct segment"
   ]
  },
  {
   "cell_type": "code",
   "execution_count": 1,
   "metadata": {},
   "outputs": [],
   "source": [
    "import pandas as pd\n",
    "import numpy as np\n",
    "import os\n",
    "import seaborn as sns\n",
    "import matplotlib.pyplot as plt\n",
    "import xgboost as xgb\n",
    "from sklearn.model_selection import train_test_split\n",
    "from sklearn.feature_selection import SelectFromModel      \n",
    "from sklearn.feature_selection import RFE\n",
    "from sklearn.metrics import f1_score\n",
    "from sklearn.metrics import accuracy_score,classification_report,confusion_matrix"
   ]
  },
  {
   "cell_type": "code",
   "execution_count": 2,
   "metadata": {},
   "outputs": [],
   "source": [
    "df = pd.read_csv('Segment-GP.csv',encoding='latin1')"
   ]
  },
  {
   "cell_type": "code",
   "execution_count": 3,
   "metadata": {},
   "outputs": [
    {
     "data": {
      "text/html": [
       "<div>\n",
       "<style scoped>\n",
       "    .dataframe tbody tr th:only-of-type {\n",
       "        vertical-align: middle;\n",
       "    }\n",
       "\n",
       "    .dataframe tbody tr th {\n",
       "        vertical-align: top;\n",
       "    }\n",
       "\n",
       "    .dataframe thead th {\n",
       "        text-align: right;\n",
       "    }\n",
       "</style>\n",
       "<table border=\"1\" class=\"dataframe\">\n",
       "  <thead>\n",
       "    <tr style=\"text-align: right;\">\n",
       "      <th></th>\n",
       "      <th>customer id</th>\n",
       "      <th>channel</th>\n",
       "      <th>Nearest_distance_cosco</th>\n",
       "      <th>Net Sales</th>\n",
       "      <th>Age</th>\n",
       "      <th>children count</th>\n",
       "      <th>Transaction_date</th>\n",
       "      <th>Martial status</th>\n",
       "      <th>Region</th>\n",
       "      <th>Loyality_flag</th>\n",
       "      <th>...</th>\n",
       "      <th>Orders groceries</th>\n",
       "      <th>Orders_cerials</th>\n",
       "      <th>Orders_chokolates</th>\n",
       "      <th>Orders dentals</th>\n",
       "      <th>Orders cosmetics</th>\n",
       "      <th>Orders_ready_eat</th>\n",
       "      <th>Orders_braverage</th>\n",
       "      <th>Orders_frozen</th>\n",
       "      <th>Loyality_amt</th>\n",
       "      <th>segments</th>\n",
       "    </tr>\n",
       "  </thead>\n",
       "  <tbody>\n",
       "    <tr>\n",
       "      <td>0</td>\n",
       "      <td>5102</td>\n",
       "      <td>Email</td>\n",
       "      <td>4</td>\n",
       "      <td>367941</td>\n",
       "      <td>58</td>\n",
       "      <td>4</td>\n",
       "      <td>2017-09-19</td>\n",
       "      <td>0</td>\n",
       "      <td>San Diego</td>\n",
       "      <td>0</td>\n",
       "      <td>...</td>\n",
       "      <td>6</td>\n",
       "      <td>10</td>\n",
       "      <td>1</td>\n",
       "      <td>6</td>\n",
       "      <td>3</td>\n",
       "      <td>7</td>\n",
       "      <td>4</td>\n",
       "      <td>0</td>\n",
       "      <td>335</td>\n",
       "      <td>6</td>\n",
       "    </tr>\n",
       "    <tr>\n",
       "      <td>1</td>\n",
       "      <td>3549</td>\n",
       "      <td>Email</td>\n",
       "      <td>33</td>\n",
       "      <td>171305</td>\n",
       "      <td>98</td>\n",
       "      <td>1</td>\n",
       "      <td>2017-02-17</td>\n",
       "      <td>0</td>\n",
       "      <td>Atlanta</td>\n",
       "      <td>0</td>\n",
       "      <td>...</td>\n",
       "      <td>7</td>\n",
       "      <td>8</td>\n",
       "      <td>0</td>\n",
       "      <td>3</td>\n",
       "      <td>5</td>\n",
       "      <td>4</td>\n",
       "      <td>10</td>\n",
       "      <td>8</td>\n",
       "      <td>446</td>\n",
       "      <td>5</td>\n",
       "    </tr>\n",
       "    <tr>\n",
       "      <td>2</td>\n",
       "      <td>5885</td>\n",
       "      <td>direct</td>\n",
       "      <td>28</td>\n",
       "      <td>173439</td>\n",
       "      <td>18</td>\n",
       "      <td>2</td>\n",
       "      <td>2017-06-06</td>\n",
       "      <td>0</td>\n",
       "      <td>TampaSt. Petersburg</td>\n",
       "      <td>0</td>\n",
       "      <td>...</td>\n",
       "      <td>5</td>\n",
       "      <td>5</td>\n",
       "      <td>8</td>\n",
       "      <td>9</td>\n",
       "      <td>3</td>\n",
       "      <td>7</td>\n",
       "      <td>5</td>\n",
       "      <td>0</td>\n",
       "      <td>49</td>\n",
       "      <td>6</td>\n",
       "    </tr>\n",
       "    <tr>\n",
       "      <td>3</td>\n",
       "      <td>7381</td>\n",
       "      <td>store</td>\n",
       "      <td>40</td>\n",
       "      <td>997988</td>\n",
       "      <td>87</td>\n",
       "      <td>3</td>\n",
       "      <td>2016-09-23</td>\n",
       "      <td>0</td>\n",
       "      <td>Seattle</td>\n",
       "      <td>1</td>\n",
       "      <td>...</td>\n",
       "      <td>5</td>\n",
       "      <td>0</td>\n",
       "      <td>8</td>\n",
       "      <td>1</td>\n",
       "      <td>2</td>\n",
       "      <td>7</td>\n",
       "      <td>7</td>\n",
       "      <td>7</td>\n",
       "      <td>280</td>\n",
       "      <td>3</td>\n",
       "    </tr>\n",
       "    <tr>\n",
       "      <td>4</td>\n",
       "      <td>2713</td>\n",
       "      <td>direct</td>\n",
       "      <td>5</td>\n",
       "      <td>898554</td>\n",
       "      <td>31</td>\n",
       "      <td>2</td>\n",
       "      <td>2017-01-20</td>\n",
       "      <td>0</td>\n",
       "      <td>Seattle</td>\n",
       "      <td>0</td>\n",
       "      <td>...</td>\n",
       "      <td>4</td>\n",
       "      <td>5</td>\n",
       "      <td>10</td>\n",
       "      <td>5</td>\n",
       "      <td>10</td>\n",
       "      <td>8</td>\n",
       "      <td>9</td>\n",
       "      <td>0</td>\n",
       "      <td>89</td>\n",
       "      <td>3</td>\n",
       "    </tr>\n",
       "  </tbody>\n",
       "</table>\n",
       "<p>5 rows × 26 columns</p>\n",
       "</div>"
      ],
      "text/plain": [
       "   customer id channel  Nearest_distance_cosco  Net Sales  Age  \\\n",
       "0         5102   Email                       4     367941   58   \n",
       "1         3549   Email                      33     171305   98   \n",
       "2         5885  direct                      28     173439   18   \n",
       "3         7381   store                      40     997988   87   \n",
       "4         2713  direct                       5     898554   31   \n",
       "\n",
       "   children count Transaction_date  Martial status                Region  \\\n",
       "0               4       2017-09-19               0             San Diego   \n",
       "1               1       2017-02-17               0               Atlanta   \n",
       "2               2       2017-06-06               0  TampaSt. Petersburg   \n",
       "3               3       2016-09-23               0               Seattle   \n",
       "4               2       2017-01-20               0               Seattle   \n",
       "\n",
       "   Loyality_flag  ...  Orders groceries Orders_cerials Orders_chokolates  \\\n",
       "0              0  ...                 6             10                 1   \n",
       "1              0  ...                 7              8                 0   \n",
       "2              0  ...                 5              5                 8   \n",
       "3              1  ...                 5              0                 8   \n",
       "4              0  ...                 4              5                10   \n",
       "\n",
       "  Orders dentals Orders cosmetics  Orders_ready_eat  Orders_braverage  \\\n",
       "0              6                3                 7                 4   \n",
       "1              3                5                 4                10   \n",
       "2              9                3                 7                 5   \n",
       "3              1                2                 7                 7   \n",
       "4              5               10                 8                 9   \n",
       "\n",
       "   Orders_frozen  Loyality_amt  segments  \n",
       "0              0           335         6  \n",
       "1              8           446         5  \n",
       "2              0            49         6  \n",
       "3              7           280         3  \n",
       "4              0            89         3  \n",
       "\n",
       "[5 rows x 26 columns]"
      ]
     },
     "execution_count": 3,
     "metadata": {},
     "output_type": "execute_result"
    }
   ],
   "source": [
    "df.head()"
   ]
  },
  {
   "cell_type": "code",
   "execution_count": 4,
   "metadata": {},
   "outputs": [
    {
     "name": "stdout",
     "output_type": "stream",
     "text": [
      "<class 'pandas.core.frame.DataFrame'>\n",
      "RangeIndex: 4999 entries, 0 to 4998\n",
      "Data columns (total 26 columns):\n",
      "customer id               4999 non-null int64\n",
      "channel                   4999 non-null object\n",
      "Nearest_distance_cosco    4999 non-null int64\n",
      "Net Sales                 4999 non-null int64\n",
      "Age                       4999 non-null int64\n",
      "children count            4999 non-null int64\n",
      "Transaction_date          4999 non-null object\n",
      "Martial status            4999 non-null int64\n",
      "Region                    4999 non-null object\n",
      "Loyality_flag             4999 non-null int64\n",
      "coupon amount             4999 non-null int64\n",
      "Customer_type             4999 non-null object\n",
      "Race_cd                   4999 non-null object\n",
      "payment                   4999 non-null object\n",
      "Brands                    4999 non-null object\n",
      "Income                    4999 non-null int64\n",
      "Orders groceries          4999 non-null int64\n",
      "Orders_cerials            4999 non-null int64\n",
      "Orders_chokolates         4999 non-null int64\n",
      "Orders dentals            4999 non-null int64\n",
      "Orders cosmetics          4999 non-null int64\n",
      "Orders_ready_eat          4999 non-null int64\n",
      "Orders_braverage          4999 non-null int64\n",
      "Orders_frozen             4999 non-null int64\n",
      "Loyality_amt              4999 non-null int64\n",
      "segments                  4999 non-null int64\n",
      "dtypes: int64(19), object(7)\n",
      "memory usage: 1015.5+ KB\n"
     ]
    }
   ],
   "source": [
    "df.info()\n",
    "\n",
    "#Dataset is clean"
   ]
  },
  {
   "cell_type": "code",
   "execution_count": 7,
   "metadata": {},
   "outputs": [],
   "source": [
    "categorical = [var for var in df.columns if df[var].dtype=='O']\n",
    "numerical = [var for var in df.columns if df[var].dtype!='O']"
   ]
  },
  {
   "cell_type": "code",
   "execution_count": 9,
   "metadata": {},
   "outputs": [
    {
     "data": {
      "text/plain": [
       "['channel',\n",
       " 'Transaction_date',\n",
       " 'Region',\n",
       " 'Customer_type',\n",
       " 'Race_cd',\n",
       " 'payment',\n",
       " 'Brands']"
      ]
     },
     "execution_count": 9,
     "metadata": {},
     "output_type": "execute_result"
    }
   ],
   "source": [
    "categorical"
   ]
  },
  {
   "cell_type": "code",
   "execution_count": 10,
   "metadata": {},
   "outputs": [
    {
     "data": {
      "text/plain": [
       "['customer id',\n",
       " 'Nearest_distance_cosco',\n",
       " 'Net Sales',\n",
       " 'Age',\n",
       " 'children count',\n",
       " 'Martial status',\n",
       " 'Loyality_flag',\n",
       " 'coupon amount',\n",
       " 'Income',\n",
       " 'Orders groceries',\n",
       " 'Orders_cerials',\n",
       " 'Orders_chokolates',\n",
       " 'Orders dentals',\n",
       " 'Orders cosmetics',\n",
       " 'Orders_ready_eat',\n",
       " 'Orders_braverage',\n",
       " 'Orders_frozen',\n",
       " 'Loyality_amt',\n",
       " 'segments']"
      ]
     },
     "execution_count": 10,
     "metadata": {},
     "output_type": "execute_result"
    }
   ],
   "source": [
    "numerical"
   ]
  },
  {
   "cell_type": "code",
   "execution_count": 11,
   "metadata": {},
   "outputs": [],
   "source": [
    "#Applying one hot encoding to categorical columns\n",
    "\n",
    "df = pd.concat([df[numerical], pd.get_dummies(df[categorical])], axis=1)"
   ]
  },
  {
   "cell_type": "code",
   "execution_count": 12,
   "metadata": {},
   "outputs": [],
   "source": [
    "from xgboost import XGBClassifier\n",
    "\n",
    "X = df.drop(['customer id','segments'],axis=1)\n",
    "y = df['segments']\n",
    "\n",
    "X_train, X_test, y_train, y_test = train_test_split(X,y,test_size=0.3, random_state=42, shuffle=True)"
   ]
  },
  {
   "cell_type": "code",
   "execution_count": 13,
   "metadata": {},
   "outputs": [
    {
     "name": "stdout",
     "output_type": "stream",
     "text": [
      "F1-score: 0.1748557401852023\n",
      "Classification report \n",
      "               precision    recall  f1-score   support\n",
      "\n",
      "           1       0.15      0.17      0.16       247\n",
      "           2       0.23      0.16      0.19       288\n",
      "           3       0.19      0.24      0.21       241\n",
      "           4       0.13      0.14      0.14       231\n",
      "           5       0.18      0.14      0.16       251\n",
      "           6       0.18      0.21      0.20       242\n",
      "\n",
      "    accuracy                           0.18      1500\n",
      "   macro avg       0.18      0.18      0.17      1500\n",
      "weighted avg       0.18      0.18      0.18      1500\n",
      "\n"
     ]
    }
   ],
   "source": [
    "#Fit model\n",
    "\n",
    "classifier = XGBClassifier(random_state=2)\n",
    "classifier.fit(X_train,y_train)\n",
    "\n",
    "y_pred = classifier.predict(X_test)\n",
    "\n",
    "f1 = f1_score(y_test,y_pred, average='macro')\n",
    "print(\"F1-score:\",f1)\n",
    "\n",
    "xgb_cr = classification_report(y_test,y_pred)\n",
    "print(\"Classification report \\n\",xgb_cr)"
   ]
  },
  {
   "cell_type": "code",
   "execution_count": 14,
   "metadata": {},
   "outputs": [
    {
     "name": "stdout",
     "output_type": "stream",
     "text": [
      "Fitting 5 folds for each of 10 candidates, totalling 50 fits\n"
     ]
    },
    {
     "name": "stderr",
     "output_type": "stream",
     "text": [
      "[Parallel(n_jobs=-1)]: Using backend LokyBackend with 4 concurrent workers.\n",
      "[Parallel(n_jobs=-1)]: Done  17 tasks      | elapsed:  6.8min\n",
      "[Parallel(n_jobs=-1)]: Done  50 out of  50 | elapsed: 18.5min finished\n"
     ]
    },
    {
     "name": "stdout",
     "output_type": "stream",
     "text": [
      "Grid F1score 0.1773890153382315\n",
      "Classification report grid \n",
      "               precision    recall  f1-score   support\n",
      "\n",
      "           1       0.15      0.17      0.16       247\n",
      "           2       0.23      0.16      0.19       288\n",
      "           3       0.19      0.24      0.21       241\n",
      "           4       0.13      0.14      0.14       231\n",
      "           5       0.18      0.14      0.16       251\n",
      "           6       0.18      0.21      0.20       242\n",
      "\n",
      "    accuracy                           0.18      1500\n",
      "   macro avg       0.18      0.18      0.17      1500\n",
      "weighted avg       0.18      0.18      0.18      1500\n",
      "\n"
     ]
    }
   ],
   "source": [
    "#Our F1 score is less, we can optimize our model using GridSearchCV\n",
    "\n",
    "from sklearn.model_selection import GridSearchCV\n",
    "\n",
    "parameters={'learning_rate':[0.1,0.15,0.2,0.25,0.3],\n",
    "            'max_depth':range(1,3)}\n",
    "\n",
    "grid_search = GridSearchCV(estimator=classifier, param_grid = parameters, n_jobs=-1, verbose=4)\n",
    "grid_search.fit(X_train,y_train)\n",
    "\n",
    "grid_predictions = grid_search.predict(X_test)\n",
    "\n",
    "grid_f1 = f1_score(y_test, grid_predictions, average='macro')\n",
    "print(\"Grid F1score\",grid_f1)\n",
    "\n",
    "report = classification_report(y_test,y_pred)\n",
    "print(\"Classification report grid \\n\",report)"
   ]
  },
  {
   "cell_type": "code",
   "execution_count": 15,
   "metadata": {},
   "outputs": [
    {
     "name": "stdout",
     "output_type": "stream",
     "text": [
      "RF F1score 0.1773890153382315\n",
      "Classification report RF \n",
      "               precision    recall  f1-score   support\n",
      "\n",
      "           1       0.18      0.21      0.19       247\n",
      "           2       0.16      0.10      0.13       288\n",
      "           3       0.15      0.22      0.18       241\n",
      "           4       0.16      0.17      0.17       231\n",
      "           5       0.18      0.14      0.16       251\n",
      "           6       0.15      0.14      0.14       242\n",
      "\n",
      "    accuracy                           0.16      1500\n",
      "   macro avg       0.16      0.16      0.16      1500\n",
      "weighted avg       0.16      0.16      0.16      1500\n",
      "\n"
     ]
    }
   ],
   "source": [
    "#As we can see that the f1score descrease after applying the gridSeachCV, we can hyperparameter tune to improve f1 score\n",
    "\n",
    "#Predictor check using ensembling\n",
    "\n",
    "from sklearn.ensemble import RandomForestClassifier\n",
    "\n",
    "model = RandomForestClassifier(random_state=2)\n",
    "model.fit(X_train, y_train)\n",
    "\n",
    "y_pred = model.predict(X_test)\n",
    "\n",
    "f1 = f1_score(y_test,y_pred, average='macro')\n",
    "print(\"RF F1score\",grid_f1)\n",
    "\n",
    "report = classification_report(y_test,y_pred)\n",
    "print(\"Classification report RF \\n\",report)"
   ]
  },
  {
   "cell_type": "code",
   "execution_count": null,
   "metadata": {},
   "outputs": [],
   "source": []
  }
 ],
 "metadata": {
  "kernelspec": {
   "display_name": "Python 3",
   "language": "python",
   "name": "python3"
  },
  "language_info": {
   "codemirror_mode": {
    "name": "ipython",
    "version": 3
   },
   "file_extension": ".py",
   "mimetype": "text/x-python",
   "name": "python",
   "nbconvert_exporter": "python",
   "pygments_lexer": "ipython3",
   "version": "3.7.4"
  }
 },
 "nbformat": 4,
 "nbformat_minor": 2
}
