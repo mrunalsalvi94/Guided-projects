{
 "cells": [
  {
   "cell_type": "markdown",
   "metadata": {},
   "source": [
    "# Cash Deposit Prediction\n",
    "\n",
    "### Project Overview\n",
    "\n",
    "The data given is of cash deposits made in particular branches of a bank.\n",
    "The description of the features is given below:\n",
    "\n",
    "#### Features:\n",
    "- **Serial Number**: Unique identifier for each data point relationship\n",
    "- **Main Office**: Is the branch where the deposit was made the main office of the bank. 0 signifies no and 1 signifies yes\n",
    "- **Branch Number**: Internally used identification number of the branch or certain branches\n",
    "- **Establishment Date and Acquired Date**: The date at which the bank branch was established and acquired by the specific bank franchise\n",
    "- **City, Country and State**: Geographical Details of the bank branch\n",
    "- **Year Deposits Variables(2010,2011,2012,2013,2014,2015)**: Deposit amount in U.S. dollars for specific branch for a specific year\n",
    "\n",
    "#### Target:\n",
    "- **2016 Deposits**\n",
    "\n",
    "#### Objective:\n",
    "The objective is to predict the cash deposit amount for branches for the year of 2016"
   ]
  },
  {
   "cell_type": "code",
   "execution_count": 1,
   "metadata": {},
   "outputs": [],
   "source": [
    "import pandas as pd\n",
    "import numpy as np\n",
    "import matplotlib.pyplot as plt"
   ]
  },
  {
   "cell_type": "code",
   "execution_count": 2,
   "metadata": {},
   "outputs": [],
   "source": [
    "df = pd.read_csv('Cashdeposit-GP.csv')"
   ]
  },
  {
   "cell_type": "code",
   "execution_count": 3,
   "metadata": {},
   "outputs": [
    {
     "name": "stdout",
     "output_type": "stream",
     "text": [
      "<class 'pandas.core.frame.DataFrame'>\n",
      "RangeIndex: 3790 entries, 0 to 3789\n",
      "Data columns (total 15 columns):\n",
      "Serial Number       3790 non-null int64\n",
      "Main Office         3790 non-null int64\n",
      "Branch Number       3790 non-null int64\n",
      "Established Date    3790 non-null object\n",
      "Acquired Date       2297 non-null object\n",
      "City                3790 non-null object\n",
      "County              3790 non-null object\n",
      "State               3790 non-null object\n",
      "2010 Deposits       3050 non-null float64\n",
      "2011 Deposits       3212 non-null float64\n",
      "2012 Deposits       3461 non-null float64\n",
      "2013 Deposits       3615 non-null float64\n",
      "2014 Deposits       3734 non-null float64\n",
      "2015 Deposits       3771 non-null float64\n",
      "2016 Deposits       3790 non-null int64\n",
      "dtypes: float64(6), int64(4), object(5)\n",
      "memory usage: 444.3+ KB\n"
     ]
    }
   ],
   "source": [
    "df.info()"
   ]
  },
  {
   "cell_type": "code",
   "execution_count": 4,
   "metadata": {},
   "outputs": [
    {
     "data": {
      "text/html": [
       "<div>\n",
       "<style scoped>\n",
       "    .dataframe tbody tr th:only-of-type {\n",
       "        vertical-align: middle;\n",
       "    }\n",
       "\n",
       "    .dataframe tbody tr th {\n",
       "        vertical-align: top;\n",
       "    }\n",
       "\n",
       "    .dataframe thead th {\n",
       "        text-align: right;\n",
       "    }\n",
       "</style>\n",
       "<table border=\"1\" class=\"dataframe\">\n",
       "  <thead>\n",
       "    <tr style=\"text-align: right;\">\n",
       "      <th></th>\n",
       "      <th>Serial Number</th>\n",
       "      <th>Main Office</th>\n",
       "      <th>Branch Number</th>\n",
       "      <th>Established Date</th>\n",
       "      <th>Acquired Date</th>\n",
       "      <th>City</th>\n",
       "      <th>County</th>\n",
       "      <th>State</th>\n",
       "      <th>2010 Deposits</th>\n",
       "      <th>2011 Deposits</th>\n",
       "      <th>2012 Deposits</th>\n",
       "      <th>2013 Deposits</th>\n",
       "      <th>2014 Deposits</th>\n",
       "      <th>2015 Deposits</th>\n",
       "      <th>2016 Deposits</th>\n",
       "    </tr>\n",
       "  </thead>\n",
       "  <tbody>\n",
       "    <tr>\n",
       "      <td>0</td>\n",
       "      <td>1</td>\n",
       "      <td>0</td>\n",
       "      <td>2866</td>\n",
       "      <td>02/06/1910</td>\n",
       "      <td>11/13/2004</td>\n",
       "      <td>Wales</td>\n",
       "      <td>Waukesha</td>\n",
       "      <td>WI</td>\n",
       "      <td>21386.0</td>\n",
       "      <td>23981.0</td>\n",
       "      <td>24825.0</td>\n",
       "      <td>26908.0</td>\n",
       "      <td>30681.0</td>\n",
       "      <td>30680.0</td>\n",
       "      <td>37564</td>\n",
       "    </tr>\n",
       "    <tr>\n",
       "      <td>1</td>\n",
       "      <td>2</td>\n",
       "      <td>0</td>\n",
       "      <td>2867</td>\n",
       "      <td>02/28/1910</td>\n",
       "      <td>11/13/2004</td>\n",
       "      <td>Germantown</td>\n",
       "      <td>Washington</td>\n",
       "      <td>WI</td>\n",
       "      <td>55454.0</td>\n",
       "      <td>56564.0</td>\n",
       "      <td>64732.0</td>\n",
       "      <td>73523.0</td>\n",
       "      <td>81357.0</td>\n",
       "      <td>89270.0</td>\n",
       "      <td>106177</td>\n",
       "    </tr>\n",
       "    <tr>\n",
       "      <td>2</td>\n",
       "      <td>3</td>\n",
       "      <td>0</td>\n",
       "      <td>2868</td>\n",
       "      <td>05/06/1907</td>\n",
       "      <td>11/13/2004</td>\n",
       "      <td>Brookfield</td>\n",
       "      <td>Waukesha</td>\n",
       "      <td>WI</td>\n",
       "      <td>90882.0</td>\n",
       "      <td>104300.0</td>\n",
       "      <td>125038.0</td>\n",
       "      <td>125906.0</td>\n",
       "      <td>132501.0</td>\n",
       "      <td>137363.0</td>\n",
       "      <td>145054</td>\n",
       "    </tr>\n",
       "    <tr>\n",
       "      <td>3</td>\n",
       "      <td>4</td>\n",
       "      <td>0</td>\n",
       "      <td>2869</td>\n",
       "      <td>06/20/1936</td>\n",
       "      <td>11/13/2004</td>\n",
       "      <td>Pewaukee</td>\n",
       "      <td>Waukesha</td>\n",
       "      <td>WI</td>\n",
       "      <td>45674.0</td>\n",
       "      <td>49288.0</td>\n",
       "      <td>53251.0</td>\n",
       "      <td>70402.0</td>\n",
       "      <td>74742.0</td>\n",
       "      <td>73837.0</td>\n",
       "      <td>85996</td>\n",
       "    </tr>\n",
       "    <tr>\n",
       "      <td>4</td>\n",
       "      <td>5</td>\n",
       "      <td>0</td>\n",
       "      <td>2870</td>\n",
       "      <td>04/22/1963</td>\n",
       "      <td>11/13/2004</td>\n",
       "      <td>Waukesha</td>\n",
       "      <td>Waukesha</td>\n",
       "      <td>WI</td>\n",
       "      <td>64181.0</td>\n",
       "      <td>72217.0</td>\n",
       "      <td>69920.0</td>\n",
       "      <td>80703.0</td>\n",
       "      <td>75971.0</td>\n",
       "      <td>73225.0</td>\n",
       "      <td>81706</td>\n",
       "    </tr>\n",
       "  </tbody>\n",
       "</table>\n",
       "</div>"
      ],
      "text/plain": [
       "   Serial Number  Main Office  Branch Number Established Date Acquired Date  \\\n",
       "0              1            0           2866       02/06/1910    11/13/2004   \n",
       "1              2            0           2867       02/28/1910    11/13/2004   \n",
       "2              3            0           2868       05/06/1907    11/13/2004   \n",
       "3              4            0           2869       06/20/1936    11/13/2004   \n",
       "4              5            0           2870       04/22/1963    11/13/2004   \n",
       "\n",
       "         City      County State  2010 Deposits  2011 Deposits  2012 Deposits  \\\n",
       "0       Wales    Waukesha    WI        21386.0        23981.0        24825.0   \n",
       "1  Germantown  Washington    WI        55454.0        56564.0        64732.0   \n",
       "2  Brookfield    Waukesha    WI        90882.0       104300.0       125038.0   \n",
       "3    Pewaukee    Waukesha    WI        45674.0        49288.0        53251.0   \n",
       "4    Waukesha    Waukesha    WI        64181.0        72217.0        69920.0   \n",
       "\n",
       "   2013 Deposits  2014 Deposits  2015 Deposits  2016 Deposits  \n",
       "0        26908.0        30681.0        30680.0          37564  \n",
       "1        73523.0        81357.0        89270.0         106177  \n",
       "2       125906.0       132501.0       137363.0         145054  \n",
       "3        70402.0        74742.0        73837.0          85996  \n",
       "4        80703.0        75971.0        73225.0          81706  "
      ]
     },
     "execution_count": 4,
     "metadata": {},
     "output_type": "execute_result"
    }
   ],
   "source": [
    "df.head()"
   ]
  },
  {
   "cell_type": "code",
   "execution_count": 5,
   "metadata": {},
   "outputs": [
    {
     "data": {
      "text/plain": [
       "Serial Number          0\n",
       "Main Office            0\n",
       "Branch Number          0\n",
       "Established Date       0\n",
       "Acquired Date       1493\n",
       "City                   0\n",
       "County                 0\n",
       "State                  0\n",
       "2010 Deposits        740\n",
       "2011 Deposits        578\n",
       "2012 Deposits        329\n",
       "2013 Deposits        175\n",
       "2014 Deposits         56\n",
       "2015 Deposits         19\n",
       "2016 Deposits          0\n",
       "dtype: int64"
      ]
     },
     "execution_count": 5,
     "metadata": {},
     "output_type": "execute_result"
    }
   ],
   "source": [
    "df.isnull().sum()"
   ]
  },
  {
   "cell_type": "code",
   "execution_count": 6,
   "metadata": {},
   "outputs": [],
   "source": [
    "#Modifying column names\n",
    "df.columns = df.columns.str.lower()"
   ]
  },
  {
   "cell_type": "code",
   "execution_count": 7,
   "metadata": {},
   "outputs": [],
   "source": [
    "df.columns = df.columns.str.replace(' ','_')"
   ]
  },
  {
   "cell_type": "code",
   "execution_count": 8,
   "metadata": {},
   "outputs": [
    {
     "data": {
      "text/plain": [
       "Index(['serial_number', 'main_office', 'branch_number', 'established_date',\n",
       "       'acquired_date', 'city', 'county', 'state', '2010_deposits',\n",
       "       '2011_deposits', '2012_deposits', '2013_deposits', '2014_deposits',\n",
       "       '2015_deposits', '2016_deposits'],\n",
       "      dtype='object')"
      ]
     },
     "execution_count": 8,
     "metadata": {},
     "output_type": "execute_result"
    }
   ],
   "source": [
    "df.columns"
   ]
  },
  {
   "cell_type": "code",
   "execution_count": 9,
   "metadata": {},
   "outputs": [
    {
     "data": {
      "text/plain": [
       "serial_number         int64\n",
       "main_office           int64\n",
       "branch_number         int64\n",
       "established_date     object\n",
       "acquired_date        object\n",
       "city                 object\n",
       "county               object\n",
       "state                object\n",
       "2010_deposits       float64\n",
       "2011_deposits       float64\n",
       "2012_deposits       float64\n",
       "2013_deposits       float64\n",
       "2014_deposits       float64\n",
       "2015_deposits       float64\n",
       "2016_deposits         int64\n",
       "dtype: object"
      ]
     },
     "execution_count": 9,
     "metadata": {},
     "output_type": "execute_result"
    }
   ],
   "source": [
    "df.dtypes"
   ]
  },
  {
   "cell_type": "code",
   "execution_count": 10,
   "metadata": {},
   "outputs": [],
   "source": [
    "#Replacing NaN object with np.NaN\n",
    "df.replace('NaN',np.nan, inplace=True)"
   ]
  },
  {
   "cell_type": "code",
   "execution_count": 11,
   "metadata": {},
   "outputs": [
    {
     "data": {
      "text/html": [
       "<div>\n",
       "<style scoped>\n",
       "    .dataframe tbody tr th:only-of-type {\n",
       "        vertical-align: middle;\n",
       "    }\n",
       "\n",
       "    .dataframe tbody tr th {\n",
       "        vertical-align: top;\n",
       "    }\n",
       "\n",
       "    .dataframe thead th {\n",
       "        text-align: right;\n",
       "    }\n",
       "</style>\n",
       "<table border=\"1\" class=\"dataframe\">\n",
       "  <thead>\n",
       "    <tr style=\"text-align: right;\">\n",
       "      <th></th>\n",
       "      <th>serial_number</th>\n",
       "      <th>main_office</th>\n",
       "      <th>branch_number</th>\n",
       "      <th>established_date</th>\n",
       "      <th>acquired_date</th>\n",
       "      <th>city</th>\n",
       "      <th>county</th>\n",
       "      <th>state</th>\n",
       "      <th>2010_deposits</th>\n",
       "      <th>2011_deposits</th>\n",
       "      <th>2012_deposits</th>\n",
       "      <th>2013_deposits</th>\n",
       "      <th>2014_deposits</th>\n",
       "      <th>2015_deposits</th>\n",
       "      <th>2016_deposits</th>\n",
       "    </tr>\n",
       "  </thead>\n",
       "  <tbody>\n",
       "    <tr>\n",
       "      <td>0</td>\n",
       "      <td>1</td>\n",
       "      <td>0</td>\n",
       "      <td>2866</td>\n",
       "      <td>02/06/1910</td>\n",
       "      <td>11/13/2004</td>\n",
       "      <td>Wales</td>\n",
       "      <td>Waukesha</td>\n",
       "      <td>WI</td>\n",
       "      <td>21386.0</td>\n",
       "      <td>23981.0</td>\n",
       "      <td>24825.0</td>\n",
       "      <td>26908.0</td>\n",
       "      <td>30681.0</td>\n",
       "      <td>30680.0</td>\n",
       "      <td>37564</td>\n",
       "    </tr>\n",
       "    <tr>\n",
       "      <td>1</td>\n",
       "      <td>2</td>\n",
       "      <td>0</td>\n",
       "      <td>2867</td>\n",
       "      <td>02/28/1910</td>\n",
       "      <td>11/13/2004</td>\n",
       "      <td>Germantown</td>\n",
       "      <td>Washington</td>\n",
       "      <td>WI</td>\n",
       "      <td>55454.0</td>\n",
       "      <td>56564.0</td>\n",
       "      <td>64732.0</td>\n",
       "      <td>73523.0</td>\n",
       "      <td>81357.0</td>\n",
       "      <td>89270.0</td>\n",
       "      <td>106177</td>\n",
       "    </tr>\n",
       "    <tr>\n",
       "      <td>2</td>\n",
       "      <td>3</td>\n",
       "      <td>0</td>\n",
       "      <td>2868</td>\n",
       "      <td>05/06/1907</td>\n",
       "      <td>11/13/2004</td>\n",
       "      <td>Brookfield</td>\n",
       "      <td>Waukesha</td>\n",
       "      <td>WI</td>\n",
       "      <td>90882.0</td>\n",
       "      <td>104300.0</td>\n",
       "      <td>125038.0</td>\n",
       "      <td>125906.0</td>\n",
       "      <td>132501.0</td>\n",
       "      <td>137363.0</td>\n",
       "      <td>145054</td>\n",
       "    </tr>\n",
       "    <tr>\n",
       "      <td>3</td>\n",
       "      <td>4</td>\n",
       "      <td>0</td>\n",
       "      <td>2869</td>\n",
       "      <td>06/20/1936</td>\n",
       "      <td>11/13/2004</td>\n",
       "      <td>Pewaukee</td>\n",
       "      <td>Waukesha</td>\n",
       "      <td>WI</td>\n",
       "      <td>45674.0</td>\n",
       "      <td>49288.0</td>\n",
       "      <td>53251.0</td>\n",
       "      <td>70402.0</td>\n",
       "      <td>74742.0</td>\n",
       "      <td>73837.0</td>\n",
       "      <td>85996</td>\n",
       "    </tr>\n",
       "    <tr>\n",
       "      <td>4</td>\n",
       "      <td>5</td>\n",
       "      <td>0</td>\n",
       "      <td>2870</td>\n",
       "      <td>04/22/1963</td>\n",
       "      <td>11/13/2004</td>\n",
       "      <td>Waukesha</td>\n",
       "      <td>Waukesha</td>\n",
       "      <td>WI</td>\n",
       "      <td>64181.0</td>\n",
       "      <td>72217.0</td>\n",
       "      <td>69920.0</td>\n",
       "      <td>80703.0</td>\n",
       "      <td>75971.0</td>\n",
       "      <td>73225.0</td>\n",
       "      <td>81706</td>\n",
       "    </tr>\n",
       "    <tr>\n",
       "      <td>...</td>\n",
       "      <td>...</td>\n",
       "      <td>...</td>\n",
       "      <td>...</td>\n",
       "      <td>...</td>\n",
       "      <td>...</td>\n",
       "      <td>...</td>\n",
       "      <td>...</td>\n",
       "      <td>...</td>\n",
       "      <td>...</td>\n",
       "      <td>...</td>\n",
       "      <td>...</td>\n",
       "      <td>...</td>\n",
       "      <td>...</td>\n",
       "      <td>...</td>\n",
       "      <td>...</td>\n",
       "    </tr>\n",
       "    <tr>\n",
       "      <td>3785</td>\n",
       "      <td>3786</td>\n",
       "      <td>0</td>\n",
       "      <td>7981</td>\n",
       "      <td>11/03/2015</td>\n",
       "      <td>NaN</td>\n",
       "      <td>Compton</td>\n",
       "      <td>Los Angeles</td>\n",
       "      <td>CA</td>\n",
       "      <td>NaN</td>\n",
       "      <td>NaN</td>\n",
       "      <td>NaN</td>\n",
       "      <td>NaN</td>\n",
       "      <td>NaN</td>\n",
       "      <td>NaN</td>\n",
       "      <td>3446</td>\n",
       "    </tr>\n",
       "    <tr>\n",
       "      <td>3786</td>\n",
       "      <td>3787</td>\n",
       "      <td>0</td>\n",
       "      <td>7982</td>\n",
       "      <td>02/02/2016</td>\n",
       "      <td>NaN</td>\n",
       "      <td>Las Vegas</td>\n",
       "      <td>Clark</td>\n",
       "      <td>NV</td>\n",
       "      <td>NaN</td>\n",
       "      <td>NaN</td>\n",
       "      <td>NaN</td>\n",
       "      <td>NaN</td>\n",
       "      <td>NaN</td>\n",
       "      <td>NaN</td>\n",
       "      <td>2666</td>\n",
       "    </tr>\n",
       "    <tr>\n",
       "      <td>3787</td>\n",
       "      <td>3788</td>\n",
       "      <td>0</td>\n",
       "      <td>7984</td>\n",
       "      <td>03/15/2016</td>\n",
       "      <td>NaN</td>\n",
       "      <td>Irvine</td>\n",
       "      <td>Orange</td>\n",
       "      <td>CA</td>\n",
       "      <td>NaN</td>\n",
       "      <td>NaN</td>\n",
       "      <td>NaN</td>\n",
       "      <td>NaN</td>\n",
       "      <td>NaN</td>\n",
       "      <td>NaN</td>\n",
       "      <td>6689</td>\n",
       "    </tr>\n",
       "    <tr>\n",
       "      <td>3788</td>\n",
       "      <td>3789</td>\n",
       "      <td>0</td>\n",
       "      <td>7988</td>\n",
       "      <td>01/01/2016</td>\n",
       "      <td>NaN</td>\n",
       "      <td>New Orleans</td>\n",
       "      <td>Orleans</td>\n",
       "      <td>LA</td>\n",
       "      <td>NaN</td>\n",
       "      <td>NaN</td>\n",
       "      <td>NaN</td>\n",
       "      <td>NaN</td>\n",
       "      <td>NaN</td>\n",
       "      <td>NaN</td>\n",
       "      <td>94133</td>\n",
       "    </tr>\n",
       "    <tr>\n",
       "      <td>3789</td>\n",
       "      <td>3790</td>\n",
       "      <td>0</td>\n",
       "      <td>7989</td>\n",
       "      <td>01/01/2016</td>\n",
       "      <td>NaN</td>\n",
       "      <td>Buffalo</td>\n",
       "      <td>Erie</td>\n",
       "      <td>NY</td>\n",
       "      <td>NaN</td>\n",
       "      <td>NaN</td>\n",
       "      <td>NaN</td>\n",
       "      <td>NaN</td>\n",
       "      <td>NaN</td>\n",
       "      <td>NaN</td>\n",
       "      <td>45596</td>\n",
       "    </tr>\n",
       "  </tbody>\n",
       "</table>\n",
       "<p>3790 rows × 15 columns</p>\n",
       "</div>"
      ],
      "text/plain": [
       "      serial_number  main_office  branch_number established_date  \\\n",
       "0                 1            0           2866       02/06/1910   \n",
       "1                 2            0           2867       02/28/1910   \n",
       "2                 3            0           2868       05/06/1907   \n",
       "3                 4            0           2869       06/20/1936   \n",
       "4                 5            0           2870       04/22/1963   \n",
       "...             ...          ...            ...              ...   \n",
       "3785           3786            0           7981       11/03/2015   \n",
       "3786           3787            0           7982       02/02/2016   \n",
       "3787           3788            0           7984       03/15/2016   \n",
       "3788           3789            0           7988       01/01/2016   \n",
       "3789           3790            0           7989       01/01/2016   \n",
       "\n",
       "     acquired_date         city       county state  2010_deposits  \\\n",
       "0       11/13/2004        Wales     Waukesha    WI        21386.0   \n",
       "1       11/13/2004   Germantown   Washington    WI        55454.0   \n",
       "2       11/13/2004   Brookfield     Waukesha    WI        90882.0   \n",
       "3       11/13/2004     Pewaukee     Waukesha    WI        45674.0   \n",
       "4       11/13/2004     Waukesha     Waukesha    WI        64181.0   \n",
       "...            ...          ...          ...   ...            ...   \n",
       "3785           NaN      Compton  Los Angeles    CA            NaN   \n",
       "3786           NaN    Las Vegas        Clark    NV            NaN   \n",
       "3787           NaN       Irvine       Orange    CA            NaN   \n",
       "3788           NaN  New Orleans      Orleans    LA            NaN   \n",
       "3789           NaN      Buffalo         Erie    NY            NaN   \n",
       "\n",
       "      2011_deposits  2012_deposits  2013_deposits  2014_deposits  \\\n",
       "0           23981.0        24825.0        26908.0        30681.0   \n",
       "1           56564.0        64732.0        73523.0        81357.0   \n",
       "2          104300.0       125038.0       125906.0       132501.0   \n",
       "3           49288.0        53251.0        70402.0        74742.0   \n",
       "4           72217.0        69920.0        80703.0        75971.0   \n",
       "...             ...            ...            ...            ...   \n",
       "3785            NaN            NaN            NaN            NaN   \n",
       "3786            NaN            NaN            NaN            NaN   \n",
       "3787            NaN            NaN            NaN            NaN   \n",
       "3788            NaN            NaN            NaN            NaN   \n",
       "3789            NaN            NaN            NaN            NaN   \n",
       "\n",
       "      2015_deposits  2016_deposits  \n",
       "0           30680.0          37564  \n",
       "1           89270.0         106177  \n",
       "2          137363.0         145054  \n",
       "3           73837.0          85996  \n",
       "4           73225.0          81706  \n",
       "...             ...            ...  \n",
       "3785            NaN           3446  \n",
       "3786            NaN           2666  \n",
       "3787            NaN           6689  \n",
       "3788            NaN          94133  \n",
       "3789            NaN          45596  \n",
       "\n",
       "[3790 rows x 15 columns]"
      ]
     },
     "execution_count": 11,
     "metadata": {},
     "output_type": "execute_result"
    }
   ],
   "source": [
    "df"
   ]
  },
  {
   "cell_type": "code",
   "execution_count": 12,
   "metadata": {},
   "outputs": [
    {
     "data": {
      "text/plain": [
       "serial_number          0\n",
       "main_office            0\n",
       "branch_number          0\n",
       "established_date       0\n",
       "acquired_date       1493\n",
       "city                   0\n",
       "county                 0\n",
       "state                  0\n",
       "2010_deposits        740\n",
       "2011_deposits        578\n",
       "2012_deposits        329\n",
       "2013_deposits        175\n",
       "2014_deposits         56\n",
       "2015_deposits         19\n",
       "2016_deposits          0\n",
       "dtype: int64"
      ]
     },
     "execution_count": 12,
     "metadata": {},
     "output_type": "execute_result"
    }
   ],
   "source": [
    "df.isnull().sum()"
   ]
  },
  {
   "cell_type": "code",
   "execution_count": 13,
   "metadata": {},
   "outputs": [],
   "source": [
    "df.set_index(keys='serial_number',inplace=True,drop=True)"
   ]
  },
  {
   "cell_type": "code",
   "execution_count": 14,
   "metadata": {},
   "outputs": [],
   "source": [
    "# changing to date time format\n",
    "\n",
    "df.established_date = pd.to_datetime(df.established_date)"
   ]
  },
  {
   "cell_type": "code",
   "execution_count": 15,
   "metadata": {},
   "outputs": [],
   "source": [
    "df.acquired_date = pd.to_datetime(df.acquired_date)"
   ]
  },
  {
   "cell_type": "code",
   "execution_count": 16,
   "metadata": {},
   "outputs": [],
   "source": [
    "X = df.iloc[:,:-1]\n",
    "y = df.iloc[:,-1]"
   ]
  },
  {
   "cell_type": "code",
   "execution_count": 17,
   "metadata": {},
   "outputs": [],
   "source": [
    "#Train test split\n",
    "\n",
    "from sklearn.model_selection import train_test_split\n",
    "\n",
    "X_train, X_val, y_train, y_val = train_test_split(X,y,test_size=0.25,random_state=3)"
   ]
  },
  {
   "cell_type": "code",
   "execution_count": 18,
   "metadata": {},
   "outputs": [],
   "source": [
    "time_col = ['established_date', 'acquired_date']"
   ]
  },
  {
   "cell_type": "code",
   "execution_count": 19,
   "metadata": {},
   "outputs": [
    {
     "name": "stderr",
     "output_type": "stream",
     "text": [
      "C:\\Users\\Mrunal\\Anaconda3\\lib\\site-packages\\ipykernel_launcher.py:5: SettingWithCopyWarning: \n",
      "A value is trying to be set on a copy of a slice from a DataFrame.\n",
      "Try using .loc[row_indexer,col_indexer] = value instead\n",
      "\n",
      "See the caveats in the documentation: http://pandas.pydata.org/pandas-docs/stable/user_guide/indexing.html#returning-a-view-versus-a-copy\n",
      "  \"\"\"\n",
      "C:\\Users\\Mrunal\\Anaconda3\\lib\\site-packages\\ipykernel_launcher.py:6: SettingWithCopyWarning: \n",
      "A value is trying to be set on a copy of a slice from a DataFrame.\n",
      "Try using .loc[row_indexer,col_indexer] = value instead\n",
      "\n",
      "See the caveats in the documentation: http://pandas.pydata.org/pandas-docs/stable/user_guide/indexing.html#returning-a-view-versus-a-copy\n",
      "  \n",
      "C:\\Users\\Mrunal\\Anaconda3\\lib\\site-packages\\pandas\\core\\frame.py:4102: SettingWithCopyWarning: \n",
      "A value is trying to be set on a copy of a slice from a DataFrame\n",
      "\n",
      "See the caveats in the documentation: http://pandas.pydata.org/pandas-docs/stable/user_guide/indexing.html#returning-a-view-versus-a-copy\n",
      "  errors=errors,\n",
      "C:\\Users\\Mrunal\\Anaconda3\\lib\\site-packages\\ipykernel_launcher.py:9: SettingWithCopyWarning: \n",
      "A value is trying to be set on a copy of a slice from a DataFrame.\n",
      "Try using .loc[row_indexer,col_indexer] = value instead\n",
      "\n",
      "See the caveats in the documentation: http://pandas.pydata.org/pandas-docs/stable/user_guide/indexing.html#returning-a-view-versus-a-copy\n",
      "  if __name__ == '__main__':\n",
      "C:\\Users\\Mrunal\\Anaconda3\\lib\\site-packages\\ipykernel_launcher.py:10: SettingWithCopyWarning: \n",
      "A value is trying to be set on a copy of a slice from a DataFrame.\n",
      "Try using .loc[row_indexer,col_indexer] = value instead\n",
      "\n",
      "See the caveats in the documentation: http://pandas.pydata.org/pandas-docs/stable/user_guide/indexing.html#returning-a-view-versus-a-copy\n",
      "  # Remove the CWD from sys.path while we load stuff.\n"
     ]
    }
   ],
   "source": [
    "#Duration of funds from inception\n",
    "\n",
    "for col_name in time_col:\n",
    "    new_col_name = \"since_\" + col_name\n",
    "    X_train[new_col_name] = pd.datetime.now() - X_train[col_name]\n",
    "    X_train[new_col_name] = X_train[new_col_name].apply(lambda x: float(x.days)/365)\n",
    "    X_train.drop(columns = col_name, inplace=True)\n",
    "    \n",
    "    X_val[new_col_name] = pd.datetime.now() - X_val[col_name]\n",
    "    X_val[new_col_name] = X_val[new_col_name].apply(lambda x: float(x.days)/365)\n",
    "    X_val.drop(columns=col_name,inplace=True)"
   ]
  },
  {
   "cell_type": "code",
   "execution_count": 20,
   "metadata": {},
   "outputs": [],
   "source": [
    "#Filling missing values and encoding categorical features\n",
    "\n",
    "X_train = X_train.fillna(0)\n",
    "X_val = X_val.fillna(0)"
   ]
  },
  {
   "cell_type": "code",
   "execution_count": 21,
   "metadata": {},
   "outputs": [],
   "source": [
    "categorical = df.select_dtypes(include='O')"
   ]
  },
  {
   "cell_type": "code",
   "execution_count": 22,
   "metadata": {},
   "outputs": [],
   "source": [
    "categorical = categorical.columns.tolist()"
   ]
  },
  {
   "cell_type": "code",
   "execution_count": 23,
   "metadata": {},
   "outputs": [
    {
     "data": {
      "text/plain": [
       "['city', 'county', 'state']"
      ]
     },
     "execution_count": 23,
     "metadata": {},
     "output_type": "execute_result"
    }
   ],
   "source": [
    "categorical"
   ]
  },
  {
   "cell_type": "code",
   "execution_count": 24,
   "metadata": {},
   "outputs": [],
   "source": [
    "from sklearn.preprocessing import LabelEncoder\n",
    "\n",
    "le = LabelEncoder()\n",
    "\n",
    "for x in categorical:\n",
    "    X_train[x] = le.fit_transform(X_train[x])\n",
    "    X_val[x] = le.fit_transform(X_val[x])\n",
    "    \n",
    "X_train_temp = pd.get_dummies(data=X_train, columns=categorical)\n",
    "X_val_temp = pd.get_dummies(data=X_val, columns=categorical)"
   ]
  },
  {
   "cell_type": "code",
   "execution_count": 25,
   "metadata": {},
   "outputs": [
    {
     "ename": "ValueError",
     "evalue": "matmul: Input operand 1 has a mismatch in its core dimension 0, with gufunc signature (n?,k),(k,m?)->(n?,m?) (size 1552 is different from 800)",
     "output_type": "error",
     "traceback": [
      "\u001b[1;31m---------------------------------------------------------------------------\u001b[0m",
      "\u001b[1;31mValueError\u001b[0m                                Traceback (most recent call last)",
      "\u001b[1;32m<ipython-input-25-0c3a75004b0a>\u001b[0m in \u001b[0;36m<module>\u001b[1;34m\u001b[0m\n\u001b[0;32m      3\u001b[0m \u001b[0mlinreg\u001b[0m \u001b[1;33m=\u001b[0m \u001b[0mLinearRegression\u001b[0m\u001b[1;33m(\u001b[0m\u001b[1;33m)\u001b[0m\u001b[1;33m\u001b[0m\u001b[1;33m\u001b[0m\u001b[0m\n\u001b[0;32m      4\u001b[0m \u001b[0mlinreg\u001b[0m\u001b[1;33m.\u001b[0m\u001b[0mfit\u001b[0m\u001b[1;33m(\u001b[0m\u001b[0mX_train_temp\u001b[0m\u001b[1;33m,\u001b[0m \u001b[0my_train\u001b[0m\u001b[1;33m)\u001b[0m\u001b[1;33m\u001b[0m\u001b[1;33m\u001b[0m\u001b[0m\n\u001b[1;32m----> 5\u001b[1;33m \u001b[0my_pred1\u001b[0m \u001b[1;33m=\u001b[0m \u001b[0mlinreg\u001b[0m\u001b[1;33m.\u001b[0m\u001b[0mpredict\u001b[0m\u001b[1;33m(\u001b[0m\u001b[0mX_val_temp\u001b[0m\u001b[1;33m)\u001b[0m\u001b[1;33m\u001b[0m\u001b[1;33m\u001b[0m\u001b[0m\n\u001b[0m\u001b[0;32m      6\u001b[0m \u001b[1;33m\u001b[0m\u001b[0m\n\u001b[0;32m      7\u001b[0m \u001b[0mscore\u001b[0m \u001b[1;33m=\u001b[0m \u001b[0mlinreg\u001b[0m\u001b[1;33m.\u001b[0m\u001b[0mscore\u001b[0m\u001b[1;33m(\u001b[0m\u001b[0mX_val_temp\u001b[0m\u001b[1;33m,\u001b[0m\u001b[0my_val\u001b[0m\u001b[1;33m)\u001b[0m\u001b[1;33m\u001b[0m\u001b[1;33m\u001b[0m\u001b[0m\n",
      "\u001b[1;32m~\\Anaconda3\\lib\\site-packages\\sklearn\\linear_model\\_base.py\u001b[0m in \u001b[0;36mpredict\u001b[1;34m(self, X)\u001b[0m\n\u001b[0;32m    223\u001b[0m             \u001b[0mReturns\u001b[0m \u001b[0mpredicted\u001b[0m \u001b[0mvalues\u001b[0m\u001b[1;33m.\u001b[0m\u001b[1;33m\u001b[0m\u001b[1;33m\u001b[0m\u001b[0m\n\u001b[0;32m    224\u001b[0m         \"\"\"\n\u001b[1;32m--> 225\u001b[1;33m         \u001b[1;32mreturn\u001b[0m \u001b[0mself\u001b[0m\u001b[1;33m.\u001b[0m\u001b[0m_decision_function\u001b[0m\u001b[1;33m(\u001b[0m\u001b[0mX\u001b[0m\u001b[1;33m)\u001b[0m\u001b[1;33m\u001b[0m\u001b[1;33m\u001b[0m\u001b[0m\n\u001b[0m\u001b[0;32m    226\u001b[0m \u001b[1;33m\u001b[0m\u001b[0m\n\u001b[0;32m    227\u001b[0m     \u001b[0m_preprocess_data\u001b[0m \u001b[1;33m=\u001b[0m \u001b[0mstaticmethod\u001b[0m\u001b[1;33m(\u001b[0m\u001b[0m_preprocess_data\u001b[0m\u001b[1;33m)\u001b[0m\u001b[1;33m\u001b[0m\u001b[1;33m\u001b[0m\u001b[0m\n",
      "\u001b[1;32m~\\Anaconda3\\lib\\site-packages\\sklearn\\linear_model\\_base.py\u001b[0m in \u001b[0;36m_decision_function\u001b[1;34m(self, X)\u001b[0m\n\u001b[0;32m    207\u001b[0m         \u001b[0mX\u001b[0m \u001b[1;33m=\u001b[0m \u001b[0mcheck_array\u001b[0m\u001b[1;33m(\u001b[0m\u001b[0mX\u001b[0m\u001b[1;33m,\u001b[0m \u001b[0maccept_sparse\u001b[0m\u001b[1;33m=\u001b[0m\u001b[1;33m[\u001b[0m\u001b[1;34m'csr'\u001b[0m\u001b[1;33m,\u001b[0m \u001b[1;34m'csc'\u001b[0m\u001b[1;33m,\u001b[0m \u001b[1;34m'coo'\u001b[0m\u001b[1;33m]\u001b[0m\u001b[1;33m)\u001b[0m\u001b[1;33m\u001b[0m\u001b[1;33m\u001b[0m\u001b[0m\n\u001b[0;32m    208\u001b[0m         return safe_sparse_dot(X, self.coef_.T,\n\u001b[1;32m--> 209\u001b[1;33m                                dense_output=True) + self.intercept_\n\u001b[0m\u001b[0;32m    210\u001b[0m \u001b[1;33m\u001b[0m\u001b[0m\n\u001b[0;32m    211\u001b[0m     \u001b[1;32mdef\u001b[0m \u001b[0mpredict\u001b[0m\u001b[1;33m(\u001b[0m\u001b[0mself\u001b[0m\u001b[1;33m,\u001b[0m \u001b[0mX\u001b[0m\u001b[1;33m)\u001b[0m\u001b[1;33m:\u001b[0m\u001b[1;33m\u001b[0m\u001b[1;33m\u001b[0m\u001b[0m\n",
      "\u001b[1;32m~\\Anaconda3\\lib\\site-packages\\sklearn\\utils\\extmath.py\u001b[0m in \u001b[0;36msafe_sparse_dot\u001b[1;34m(a, b, dense_output)\u001b[0m\n\u001b[0;32m    149\u001b[0m             \u001b[0mret\u001b[0m \u001b[1;33m=\u001b[0m \u001b[0mnp\u001b[0m\u001b[1;33m.\u001b[0m\u001b[0mdot\u001b[0m\u001b[1;33m(\u001b[0m\u001b[0ma\u001b[0m\u001b[1;33m,\u001b[0m \u001b[0mb\u001b[0m\u001b[1;33m)\u001b[0m\u001b[1;33m\u001b[0m\u001b[1;33m\u001b[0m\u001b[0m\n\u001b[0;32m    150\u001b[0m     \u001b[1;32melse\u001b[0m\u001b[1;33m:\u001b[0m\u001b[1;33m\u001b[0m\u001b[1;33m\u001b[0m\u001b[0m\n\u001b[1;32m--> 151\u001b[1;33m         \u001b[0mret\u001b[0m \u001b[1;33m=\u001b[0m \u001b[0ma\u001b[0m \u001b[1;33m@\u001b[0m \u001b[0mb\u001b[0m\u001b[1;33m\u001b[0m\u001b[1;33m\u001b[0m\u001b[0m\n\u001b[0m\u001b[0;32m    152\u001b[0m \u001b[1;33m\u001b[0m\u001b[0m\n\u001b[0;32m    153\u001b[0m     if (sparse.issparse(a) and sparse.issparse(b)\n",
      "\u001b[1;31mValueError\u001b[0m: matmul: Input operand 1 has a mismatch in its core dimension 0, with gufunc signature (n?,k),(k,m?)->(n?,m?) (size 1552 is different from 800)"
     ]
    }
   ],
   "source": [
    "from sklearn.linear_model import LinearRegression\n",
    "\n",
    "linreg = LinearRegression()\n",
    "linreg.fit(X_train_temp, y_train)\n",
    "y_pred1 = linreg.predict(X_val_temp)\n",
    "\n",
    "score = linreg.score(X_val_temp,y_val)\n",
    "print(\"Accuracy:\",score)"
   ]
  },
  {
   "cell_type": "markdown",
   "metadata": {},
   "source": [
    "#### Observation\n",
    "\n",
    "- Some of the models like Linear Regression requires the data to be one hot encoded for the model to work efficiently.\n",
    "- **The shape error we faced in the previous task while applying Linear regression was due to one hot encoding applied on the dataset.**\n",
    "- Some categories present in the train data set were not present in the test data set and so the shape of both the dataframes did not match.\n",
    "- So one of the methods to tackle this is that to use tree based algorithm.\n",
    "- A major advantage of decision tree models and their ensemble counterparts, random forests, is that they are able to operate on both continuous and categorical variables directly.\n",
    "- In contrast, most other popular models (e.g.,Linear regresion) must instead transform categorical variables into some numerical analog, usually by one-hot encoding them to create a new dummy variable."
   ]
  },
  {
   "cell_type": "code",
   "execution_count": 26,
   "metadata": {},
   "outputs": [
    {
     "name": "stdout",
     "output_type": "stream",
     "text": [
      "Accuracy: 0.9333991141166543\n",
      "Rmse: 68372.52930639003\n"
     ]
    }
   ],
   "source": [
    "#Fitting model\n",
    "\n",
    "from sklearn.tree import DecisionTreeRegressor\n",
    "import math\n",
    "from sklearn.metrics import mean_squared_error\n",
    "\n",
    "dt = DecisionTreeRegressor(random_state=5)\n",
    "dt.fit(X_train,y_train)\n",
    "y_pred = dt.predict(X_val)\n",
    "\n",
    "score = dt.score(X_val,y_val)\n",
    "print(\"Accuracy:\",score)\n",
    "\n",
    "mse = mean_squared_error(y_val,y_pred)\n",
    "rmse = math.sqrt(mse)\n",
    "print(\"Rmse:\",rmse)"
   ]
  },
  {
   "cell_type": "code",
   "execution_count": 27,
   "metadata": {},
   "outputs": [
    {
     "name": "stdout",
     "output_type": "stream",
     "text": [
      "Accuracy: 0.9333991141166543\n",
      "Rmse: 129468.29847399698\n"
     ]
    }
   ],
   "source": [
    "from xgboost import XGBRegressor\n",
    "\n",
    "xgb = XGBRegressor(max_depth=50, learning_rate=0.83, n_estimators=100)\n",
    "xgb.fit(X_train,y_train)\n",
    "y_pred = xgb.predict(X_val)\n",
    "\n",
    "accuracy = xgb.score(X_val, y_val)\n",
    "print(\"Accuracy:\",score)\n",
    "\n",
    "rmse = np.sqrt(mean_squared_error(y_val, y_pred))\n",
    "print(\"Rmse:\",rmse)"
   ]
  }
 ],
 "metadata": {
  "kernelspec": {
   "display_name": "Python 3",
   "language": "python",
   "name": "python3"
  },
  "language_info": {
   "codemirror_mode": {
    "name": "ipython",
    "version": 3
   },
   "file_extension": ".py",
   "mimetype": "text/x-python",
   "name": "python",
   "nbconvert_exporter": "python",
   "pygments_lexer": "ipython3",
   "version": "3.7.4"
  }
 },
 "nbformat": 4,
 "nbformat_minor": 2
}
