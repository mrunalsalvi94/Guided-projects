{
 "cells": [
  {
   "cell_type": "markdown",
   "metadata": {},
   "source": [
    "# Lending Club loan prediction\n",
    "\n",
    "### Project Overview\n",
    "\n",
    "Lending Club is a peer to peer lending company based in the United States, in which investors provide funds for potential borrowers and investors earn a profit depending on the risk they take (the borrowers credit score).\n",
    "\n",
    "Lending Club provides the \"bridge\" between investors and borrowers. This data contains complete loan data for all loans issued for the first quarter of 2012, including the current loan status (Current, Late, Fully Paid, etc.) and latest payment information. Our goal here is to predict potential loan defaulters.\n",
    "\n",
    "Additional features include credit scores, number of finance inquiries, address including zip codes, and state, and collections among others. \n",
    "\n",
    "### Dataset\n",
    "The file is a matrix of about 188183 observations and 77 variables.\n",
    "\n",
    "#### Features:\n",
    "\n",
    "- addr_state: The state provided by the borrower in the loan application\n",
    "- annual_inc: The self-reported annual income provided by the borrower during registration\n",
    "- annual_inc_joint: The combined self-reported annual income provided by the co-borrowers during registration\n",
    "- application_type: Indicates whether the loan is an individual application or a joint application with two co-borrowers\n",
    "- collection_recovery_fee: post charge off collection fee\n",
    "- collections_12_mths_ex_med: Number of collections in 12 months excluding medical collections\n",
    "- delinq_2yrs: The number of 30+ days past-due incidences of delinquency in the borrower's credit file for the past 2 years\n",
    "- desc: Loan description provided by the borrower\n",
    "- dti: A ratio calculated using the borrower’s total monthly debt payments on the total debt obligations, excluding mortgage and the requested LC loan, divided by the borrower’s self-reported monthly income.\n",
    "- dti_joint: A ratio calculated using the co-borrowers' total monthly payments on the total debt obligations, excluding mortgages and the requested LC loan, divided by the co-borrowers' combined self-reported monthly income\n",
    "- earliest_cr_line: The month the borrower's earliest reported credit line was opened\n",
    "- emp_length: Employment length in years. Possible values are between 0 and 10 where 0 means less than one year and 10 means ten or more years.\n",
    "- emp_title: The job title supplied by the Borrower when applying for the loan.*\n",
    "- fico_range_high: The upper boundary range the borrower’s FICO at loan origination belongs to.\n",
    "- fico_range_low: The lower boundary range the borrower’s FICO at loan origination belongs to.\n",
    "- funded_amnt: The total amount committed to that loan at that point in time.\n",
    "- funded_amnt_inv: The total amount committed by investors for that loan at that point in time.\n",
    "- grade\tLC assigned loan grade\n",
    "- home_ownership: The home ownership status provided by the borrower during registration. Our values are: RENT, OWN, MORTGAGE, OTHER.\n",
    "- id: A unique LC assigned ID for the loan listing.\n",
    "- initial_list_status: The initial listing status of the loan. Possible values are – W, F\n",
    "- inq_last_6mths: The number of inquiries in past 6 months (excluding auto and mortgage inquiries)\n",
    "- installment: The monthly payment owed by the borrower if the loan originates.\n",
    "- int_rate: Interest Rate on the loan\n",
    "- is_inc_v: Indicates if income was verified by LC, not verified, or if the income source was verified\n",
    "- issue_d: The month which the loan was funded\n",
    "- last_credit_pull_d: The most recent month LC pulled credit for this loan\n",
    "- last_fico_range_high: The upper boundary range the borrower’s last FICO pulled belongs to.\n",
    "- last_fico_range_low: The lower boundary range the borrower’s last FICO pulled belongs to.\n",
    "- last_pymnt_amnt: Last total payment amount received\n",
    "- last_pymnt_d: Last month payment was received\n",
    "- loan_amnt: The listed amount of the loan applied for by the borrower. If at some point in time, the credit department reduces the loan amount, then it will be reflected in this value.\n",
    "- loan_status: Current status of the loan\n",
    "- member_id: A unique LC assigned Id for the borrower member.\n",
    "- mths_since_last_delinq: The number of months since the borrower's last delinquency.\n",
    "- mths_since_last_major_derog: Months since most recent 90-day or worse rating\n",
    "- mths_since_last_record: The number of months since the last public record.\n",
    "- next_pymnt_d: Next scheduled payment date\n",
    "- open_acc: The number of open credit lines in the borrower's credit file.\n",
    "- out_prncp: Remaining outstanding principal for total amount funded\n",
    "- out_prncp_inv: Remaining outstanding principal for portion of total amount funded by investors\n",
    "- policy_code: publicly available policycode=1 new products not publicly available policycode=2\n",
    "- pub_rec: Number of derogatory public records\n",
    "- purpose: A category provided by the borrower for the loan request.\n",
    "- pymnt_plan: Indicates if a payment plan has been put in place for the loan\n",
    "- recoveries: post charge off gross recovery\n",
    "- revol_bal: Total credit revolving balance\n",
    "- revol_util: Revolving line utilization rate, or the amount of credit the borrower is using relative to all available revolving credit.\n",
    "- sub_grade: LC assigned loan subgrade\n",
    "- term: The number of payments on the loan. Values are in months and can be either 36 or 60.\n",
    "- title: The loan title provided by the borrower\n",
    "- total_acc: The total number of credit lines currently in the borrower's credit file\n",
    "- total_pymnt: Payments received to date for total amount funded\n",
    "- total_pymnt_inv: Payments received to date for portion of total amount funded by investors\n",
    "- total_rec_int: Interest received to date\n",
    "- total_rec_late_fee: Late fees received to date\n",
    "- total_rec_prncp: Principal received to date\n",
    "- url: URL for the LC page with listing data.\n",
    "- verified_status_joint: Indicates if the co-borrowers' joint income was verified by LC, not verified, or if the income source was verified\n",
    "- zip_code: The first 3 numbers of the zip code provided by the borrower in the loan application.\n",
    "- open_acc_6m: Number of open trades in last 6 months\n",
    "- open_il_6m: Number of currently active installment trades\n",
    "- open_il_12m: Number of installment accounts opened in past 12 months\n",
    "- open_il_24m: Number of installment accounts opened in past 24 months\n",
    "- mths_since_rcnt_il: Months since most recent installment accounts opened\n",
    "- total_bal_il: Total current balance of all installment accounts\n",
    "- il_util: Ratio of total current balance to high credit/credit limit on all install acct\n",
    "- open_rv_12m: Number of revolving trades opened in past 12 months\n",
    "- open_rv_24m: Number of revolving trades opened in past 24 months\n",
    "- max_bal_bc: Maximum current balance owed on all revolving accounts\n",
    "- all_util: Balance to credit limit on all trades\n",
    "- total_rev_hi_lim: Total revolving high credit/credit limit\n",
    "- inq_fi: Number of personal finance inquiries\n",
    "- total_cu_tl: Number of finance trades\n",
    "- inq_last_12m: Number of credit inquiries in past 12 months\n",
    "- acc_now_delinq: The number of accounts on which the borrower is now delinquent.\n",
    "- tot_coll_amt: Total collection amounts ever owed\n",
    "- tot_cur_bal: Total current balance of all accounts"
   ]
  },
  {
   "cell_type": "code",
   "execution_count": 1,
   "metadata": {},
   "outputs": [],
   "source": [
    "import pandas as pd\n",
    "import numpy as np\n",
    "from sklearn.model_selection import train_test_split"
   ]
  },
  {
   "cell_type": "code",
   "execution_count": 2,
   "metadata": {},
   "outputs": [
    {
     "name": "stderr",
     "output_type": "stream",
     "text": [
      "C:\\Users\\Mrunal\\Anaconda3\\lib\\site-packages\\IPython\\core\\interactiveshell.py:3058: DtypeWarning: Columns (0,47) have mixed types. Specify dtype option on import or set low_memory=False.\n",
      "  interactivity=interactivity, compiler=compiler, result=result)\n"
     ]
    }
   ],
   "source": [
    "df = pd.read_csv('Lending-GP.csv')"
   ]
  },
  {
   "cell_type": "code",
   "execution_count": 3,
   "metadata": {},
   "outputs": [
    {
     "data": {
      "text/html": [
       "<div>\n",
       "<style scoped>\n",
       "    .dataframe tbody tr th:only-of-type {\n",
       "        vertical-align: middle;\n",
       "    }\n",
       "\n",
       "    .dataframe tbody tr th {\n",
       "        vertical-align: top;\n",
       "    }\n",
       "\n",
       "    .dataframe thead th {\n",
       "        text-align: right;\n",
       "    }\n",
       "</style>\n",
       "<table border=\"1\" class=\"dataframe\">\n",
       "  <thead>\n",
       "    <tr style=\"text-align: right;\">\n",
       "      <th></th>\n",
       "      <th>id</th>\n",
       "      <th>member_id</th>\n",
       "      <th>loan_amnt</th>\n",
       "      <th>funded_amnt</th>\n",
       "      <th>funded_amnt_inv</th>\n",
       "      <th>term</th>\n",
       "      <th>int_rate</th>\n",
       "      <th>installment</th>\n",
       "      <th>grade</th>\n",
       "      <th>sub_grade</th>\n",
       "      <th>...</th>\n",
       "      <th>total_bal_il</th>\n",
       "      <th>il_util</th>\n",
       "      <th>open_rv_12m</th>\n",
       "      <th>open_rv_24m</th>\n",
       "      <th>max_bal_bc</th>\n",
       "      <th>all_util</th>\n",
       "      <th>total_rev_hi_lim</th>\n",
       "      <th>inq_fi</th>\n",
       "      <th>total_cu_tl</th>\n",
       "      <th>inq_last_12m</th>\n",
       "    </tr>\n",
       "  </thead>\n",
       "  <tbody>\n",
       "    <tr>\n",
       "      <td>0</td>\n",
       "      <td>NaN</td>\n",
       "      <td>NaN</td>\n",
       "      <td>8000.0</td>\n",
       "      <td>8000.0</td>\n",
       "      <td>8000.0</td>\n",
       "      <td>36 months</td>\n",
       "      <td>10.99%</td>\n",
       "      <td>261.88</td>\n",
       "      <td>B</td>\n",
       "      <td>B2</td>\n",
       "      <td>...</td>\n",
       "      <td>NaN</td>\n",
       "      <td>NaN</td>\n",
       "      <td>NaN</td>\n",
       "      <td>NaN</td>\n",
       "      <td>NaN</td>\n",
       "      <td>NaN</td>\n",
       "      <td>20800.0</td>\n",
       "      <td>NaN</td>\n",
       "      <td>NaN</td>\n",
       "      <td>NaN</td>\n",
       "    </tr>\n",
       "    <tr>\n",
       "      <td>1</td>\n",
       "      <td>NaN</td>\n",
       "      <td>NaN</td>\n",
       "      <td>20800.0</td>\n",
       "      <td>20800.0</td>\n",
       "      <td>20800.0</td>\n",
       "      <td>36 months</td>\n",
       "      <td>13.53%</td>\n",
       "      <td>706.16</td>\n",
       "      <td>B</td>\n",
       "      <td>B5</td>\n",
       "      <td>...</td>\n",
       "      <td>NaN</td>\n",
       "      <td>NaN</td>\n",
       "      <td>NaN</td>\n",
       "      <td>NaN</td>\n",
       "      <td>NaN</td>\n",
       "      <td>NaN</td>\n",
       "      <td>43100.0</td>\n",
       "      <td>NaN</td>\n",
       "      <td>NaN</td>\n",
       "      <td>NaN</td>\n",
       "    </tr>\n",
       "    <tr>\n",
       "      <td>2</td>\n",
       "      <td>NaN</td>\n",
       "      <td>NaN</td>\n",
       "      <td>10000.0</td>\n",
       "      <td>10000.0</td>\n",
       "      <td>10000.0</td>\n",
       "      <td>36 months</td>\n",
       "      <td>9.67%</td>\n",
       "      <td>321.13</td>\n",
       "      <td>B</td>\n",
       "      <td>B1</td>\n",
       "      <td>...</td>\n",
       "      <td>NaN</td>\n",
       "      <td>NaN</td>\n",
       "      <td>NaN</td>\n",
       "      <td>NaN</td>\n",
       "      <td>NaN</td>\n",
       "      <td>NaN</td>\n",
       "      <td>22300.0</td>\n",
       "      <td>NaN</td>\n",
       "      <td>NaN</td>\n",
       "      <td>NaN</td>\n",
       "    </tr>\n",
       "    <tr>\n",
       "      <td>3</td>\n",
       "      <td>NaN</td>\n",
       "      <td>NaN</td>\n",
       "      <td>11500.0</td>\n",
       "      <td>11500.0</td>\n",
       "      <td>11500.0</td>\n",
       "      <td>60 months</td>\n",
       "      <td>22.90%</td>\n",
       "      <td>323.54</td>\n",
       "      <td>E</td>\n",
       "      <td>E4</td>\n",
       "      <td>...</td>\n",
       "      <td>NaN</td>\n",
       "      <td>NaN</td>\n",
       "      <td>NaN</td>\n",
       "      <td>NaN</td>\n",
       "      <td>NaN</td>\n",
       "      <td>NaN</td>\n",
       "      <td>14100.0</td>\n",
       "      <td>NaN</td>\n",
       "      <td>NaN</td>\n",
       "      <td>NaN</td>\n",
       "    </tr>\n",
       "    <tr>\n",
       "      <td>4</td>\n",
       "      <td>NaN</td>\n",
       "      <td>NaN</td>\n",
       "      <td>15000.0</td>\n",
       "      <td>15000.0</td>\n",
       "      <td>15000.0</td>\n",
       "      <td>36 months</td>\n",
       "      <td>8.90%</td>\n",
       "      <td>476.30</td>\n",
       "      <td>A</td>\n",
       "      <td>A5</td>\n",
       "      <td>...</td>\n",
       "      <td>NaN</td>\n",
       "      <td>NaN</td>\n",
       "      <td>NaN</td>\n",
       "      <td>NaN</td>\n",
       "      <td>NaN</td>\n",
       "      <td>NaN</td>\n",
       "      <td>15400.0</td>\n",
       "      <td>NaN</td>\n",
       "      <td>NaN</td>\n",
       "      <td>NaN</td>\n",
       "    </tr>\n",
       "  </tbody>\n",
       "</table>\n",
       "<p>5 rows × 73 columns</p>\n",
       "</div>"
      ],
      "text/plain": [
       "    id  member_id  loan_amnt  funded_amnt  funded_amnt_inv        term  \\\n",
       "0  NaN        NaN     8000.0       8000.0           8000.0   36 months   \n",
       "1  NaN        NaN    20800.0      20800.0          20800.0   36 months   \n",
       "2  NaN        NaN    10000.0      10000.0          10000.0   36 months   \n",
       "3  NaN        NaN    11500.0      11500.0          11500.0   60 months   \n",
       "4  NaN        NaN    15000.0      15000.0          15000.0   36 months   \n",
       "\n",
       "  int_rate  installment grade sub_grade  ... total_bal_il il_util open_rv_12m  \\\n",
       "0   10.99%       261.88     B        B2  ...          NaN     NaN         NaN   \n",
       "1   13.53%       706.16     B        B5  ...          NaN     NaN         NaN   \n",
       "2    9.67%       321.13     B        B1  ...          NaN     NaN         NaN   \n",
       "3   22.90%       323.54     E        E4  ...          NaN     NaN         NaN   \n",
       "4    8.90%       476.30     A        A5  ...          NaN     NaN         NaN   \n",
       "\n",
       "   open_rv_24m max_bal_bc all_util total_rev_hi_lim inq_fi  total_cu_tl  \\\n",
       "0          NaN        NaN      NaN          20800.0    NaN          NaN   \n",
       "1          NaN        NaN      NaN          43100.0    NaN          NaN   \n",
       "2          NaN        NaN      NaN          22300.0    NaN          NaN   \n",
       "3          NaN        NaN      NaN          14100.0    NaN          NaN   \n",
       "4          NaN        NaN      NaN          15400.0    NaN          NaN   \n",
       "\n",
       "  inq_last_12m  \n",
       "0          NaN  \n",
       "1          NaN  \n",
       "2          NaN  \n",
       "3          NaN  \n",
       "4          NaN  \n",
       "\n",
       "[5 rows x 73 columns]"
      ]
     },
     "execution_count": 3,
     "metadata": {},
     "output_type": "execute_result"
    }
   ],
   "source": [
    "df.head()"
   ]
  },
  {
   "cell_type": "code",
   "execution_count": 4,
   "metadata": {},
   "outputs": [],
   "source": [
    "X = df.drop('loan_status',1)\n",
    "y = df['loan_status']\n",
    "\n",
    "X_train,X_test,y_train,y_test = train_test_split(X,y,test_size = 0.25,random_state = 4)"
   ]
  },
  {
   "cell_type": "code",
   "execution_count": 5,
   "metadata": {},
   "outputs": [
    {
     "name": "stdout",
     "output_type": "stream",
     "text": [
      "id                  188181\n",
      "member_id           188183\n",
      "loan_amnt                2\n",
      "funded_amnt              2\n",
      "funded_amnt_inv          2\n",
      "                     ...  \n",
      "all_util            188183\n",
      "total_rev_hi_lim     27743\n",
      "inq_fi              188183\n",
      "total_cu_tl         188183\n",
      "inq_last_12m        188183\n",
      "Length: 73, dtype: int64\n"
     ]
    }
   ],
   "source": [
    "#Removing columns with more 25% missing data\n",
    "\n",
    "col = df.isnull().sum()\n",
    "print(col)\n",
    "\n",
    "col_drop = col[col>0.25*len(df)].index.tolist()\n",
    "\n",
    "for x in df:\n",
    "    if df[x].nunique() == 1:\n",
    "        col_drop.append(x)"
   ]
  },
  {
   "cell_type": "code",
   "execution_count": 6,
   "metadata": {},
   "outputs": [
    {
     "data": {
      "text/plain": [
       "['id',\n",
       " 'member_id',\n",
       " 'url',\n",
       " 'desc',\n",
       " 'mths_since_last_delinq',\n",
       " 'mths_since_last_record',\n",
       " 'next_pymnt_d',\n",
       " 'mths_since_last_major_derog',\n",
       " 'annual_inc_joint',\n",
       " 'dti_joint',\n",
       " 'verification_status_joint',\n",
       " 'open_acc_6m',\n",
       " 'open_il_12m',\n",
       " 'open_il_24m',\n",
       " 'mths_since_rcnt_il',\n",
       " 'total_bal_il',\n",
       " 'il_util',\n",
       " 'open_rv_12m',\n",
       " 'open_rv_24m',\n",
       " 'max_bal_bc',\n",
       " 'all_util',\n",
       " 'inq_fi',\n",
       " 'total_cu_tl',\n",
       " 'inq_last_12m',\n",
       " 'pymnt_plan',\n",
       " 'policy_code',\n",
       " 'application_type']"
      ]
     },
     "execution_count": 6,
     "metadata": {},
     "output_type": "execute_result"
    }
   ],
   "source": [
    "col_drop"
   ]
  },
  {
   "cell_type": "code",
   "execution_count": 7,
   "metadata": {},
   "outputs": [],
   "source": [
    "X_train = X_train.drop(col_drop,1)\n",
    "X_test = X_test.drop(col_drop,1)"
   ]
  },
  {
   "cell_type": "code",
   "execution_count": 8,
   "metadata": {},
   "outputs": [
    {
     "data": {
      "text/plain": [
       "Fully Paid            157731\n",
       "Charged Off            29630\n",
       "Current                  731\n",
       "Late (31-120 days)        43\n",
       "In Grace Period           35\n",
       "Late (16-30 days)         11\n",
       "Name: loan_status, dtype: int64"
      ]
     },
     "execution_count": 8,
     "metadata": {},
     "output_type": "execute_result"
    }
   ],
   "source": [
    "#Target variable is multiclass\n",
    "\n",
    "#Fully paid and current as 0, rest as 1\n",
    "\n",
    "df.loan_status.unique()\n",
    "df.loan_status.value_counts()"
   ]
  },
  {
   "cell_type": "code",
   "execution_count": 9,
   "metadata": {},
   "outputs": [],
   "source": [
    "y_train = np.where((y_train == 'Fully Paid') |(y_train == 'Current'), 0, 1)"
   ]
  },
  {
   "cell_type": "code",
   "execution_count": 10,
   "metadata": {},
   "outputs": [],
   "source": [
    "y_test = np.where((y_test == 'Fully Paid') |(y_test == 'Current'), 0, 1)"
   ]
  },
  {
   "cell_type": "code",
   "execution_count": 11,
   "metadata": {},
   "outputs": [],
   "source": [
    "#Missing values and encoding of categorical variables\n",
    "\n",
    "categorical = X_train.select_dtypes(include = 'O').columns.tolist()\n",
    "numerical = X_train.select_dtypes(exclude = 'O').columns.tolist()"
   ]
  },
  {
   "cell_type": "code",
   "execution_count": 12,
   "metadata": {},
   "outputs": [
    {
     "data": {
      "text/plain": [
       "['term',\n",
       " 'int_rate',\n",
       " 'grade',\n",
       " 'sub_grade',\n",
       " 'emp_title',\n",
       " 'emp_length',\n",
       " 'home_ownership',\n",
       " 'verification_status',\n",
       " 'issue_d',\n",
       " 'purpose',\n",
       " 'title',\n",
       " 'zip_code',\n",
       " 'addr_state',\n",
       " 'earliest_cr_line',\n",
       " 'revol_util',\n",
       " 'initial_list_status',\n",
       " 'last_pymnt_d',\n",
       " 'last_credit_pull_d']"
      ]
     },
     "execution_count": 12,
     "metadata": {},
     "output_type": "execute_result"
    }
   ],
   "source": [
    "categorical"
   ]
  },
  {
   "cell_type": "code",
   "execution_count": 13,
   "metadata": {},
   "outputs": [
    {
     "data": {
      "text/plain": [
       "['loan_amnt',\n",
       " 'funded_amnt',\n",
       " 'funded_amnt_inv',\n",
       " 'installment',\n",
       " 'annual_inc',\n",
       " 'dti',\n",
       " 'delinq_2yrs',\n",
       " 'inq_last_6mths',\n",
       " 'open_acc',\n",
       " 'pub_rec',\n",
       " 'revol_bal',\n",
       " 'total_acc',\n",
       " 'out_prncp',\n",
       " 'out_prncp_inv',\n",
       " 'total_pymnt',\n",
       " 'total_pymnt_inv',\n",
       " 'total_rec_prncp',\n",
       " 'total_rec_int',\n",
       " 'total_rec_late_fee',\n",
       " 'recoveries',\n",
       " 'collection_recovery_fee',\n",
       " 'last_pymnt_amnt',\n",
       " 'collections_12_mths_ex_med',\n",
       " 'acc_now_delinq',\n",
       " 'tot_coll_amt',\n",
       " 'tot_cur_bal',\n",
       " 'total_rev_hi_lim']"
      ]
     },
     "execution_count": 13,
     "metadata": {},
     "output_type": "execute_result"
    }
   ],
   "source": [
    "numerical"
   ]
  },
  {
   "cell_type": "code",
   "execution_count": 14,
   "metadata": {},
   "outputs": [],
   "source": [
    "#Filling missing values in both categorical(mode) and numerical columns(mean)\n",
    "\n",
    "for x in categorical:\n",
    "    mode = X_train[x].mode()[0]\n",
    "    X_train[x].fillna(mode, inplace = True)\n",
    "\n",
    "for x in numerical:\n",
    "    mean = X_train[x].mean()\n",
    "    X_train[x].fillna(mean,inplace = True)\n",
    "\n",
    "# Test Data\n",
    "for x in categorical:\n",
    "    mode = X_train[x].mode()[0]\n",
    "    X_test[x].fillna(mode,inplace = True)\n",
    "\n",
    "for x in numerical:\n",
    "    mean = X_train[x].mean()\n",
    "    X_test[x].fillna(mean,inplace = True)"
   ]
  },
  {
   "cell_type": "code",
   "execution_count": 15,
   "metadata": {},
   "outputs": [],
   "source": [
    "#Label encoding categorical variables\n",
    "\n",
    "from sklearn.preprocessing import LabelEncoder\n",
    "\n",
    "le = LabelEncoder()\n",
    "\n",
    "for x in categorical:  \n",
    "    X_train[x] = le.fit_transform(X_train[x])\n",
    "    X_test[x] = le.fit_transform(X_test[x])"
   ]
  },
  {
   "cell_type": "code",
   "execution_count": 16,
   "metadata": {},
   "outputs": [
    {
     "name": "stdout",
     "output_type": "stream",
     "text": [
      "F1 0.5965012905075997\n",
      "Precision 1.0\n",
      "Recall 0.425010216591745\n",
      "ROCAUC 0.7125051082958724\n"
     ]
    }
   ],
   "source": [
    "# Using Random Forest classifier\n",
    "\n",
    "from sklearn.ensemble import RandomForestClassifier\n",
    "from sklearn.metrics import f1_score,precision_score,recall_score,roc_auc_score,confusion_matrix,classification_report\n",
    "from sklearn import metrics\n",
    "import matplotlib.pyplot as plt\n",
    "\n",
    "rf = RandomForestClassifier(random_state =42,max_depth=2,min_samples_leaf=5000)\n",
    "rf.fit(X_train,y_train)\n",
    "y_pred = rf.predict(X_test)\n",
    "\n",
    "f1 = f1_score(y_test, y_pred)\n",
    "print(\"F1\",f1)\n",
    "\n",
    "precision = precision_score(y_test, y_pred)\n",
    "print(\"Precision\",precision)\n",
    "\n",
    "recall = recall_score(y_test, y_pred)\n",
    "print(\"Recall\",recall)\n",
    "\n",
    "roc_auc = roc_auc_score(y_test, y_pred)\n",
    "print(\"ROCAUC\",roc_auc)"
   ]
  },
  {
   "cell_type": "code",
   "execution_count": 17,
   "metadata": {},
   "outputs": [
    {
     "name": "stdout",
     "output_type": "stream",
     "text": [
      "Confusion_matrix\n",
      " [[39705     0]\n",
      " [ 4221  3120]]\n",
      "Classification_report\n",
      "              precision    recall  f1-score   support\n",
      "\n",
      "           0       0.90      1.00      0.95     39705\n",
      "           1       1.00      0.43      0.60      7341\n",
      "\n",
      "    accuracy                           0.91     47046\n",
      "   macro avg       0.95      0.71      0.77     47046\n",
      "weighted avg       0.92      0.91      0.89     47046\n",
      "\n"
     ]
    }
   ],
   "source": [
    "print ('Confusion_matrix' + '\\n', confusion_matrix(y_test, rf.predict(X_test)))\n",
    "print ('Classification_report' + '\\n' + classification_report(y_test,y_pred))"
   ]
  },
  {
   "cell_type": "code",
   "execution_count": 18,
   "metadata": {},
   "outputs": [
    {
     "name": "stdout",
     "output_type": "stream",
     "text": [
      "Auc score: 0.9936442927124253\n"
     ]
    },
    {
     "data": {
      "image/png": "[encoded data removed]",
      "text/plain": [
       "<Figure size 432x288 with 1 Axes>"
      ]
     },
     "metadata": {
      "needs_background": "light"
     },
     "output_type": "display_data"
    }
   ],
   "source": [
    "y_pred_proba = rf.predict_proba(X_test)[:,1]\n",
    "fpr,tpr,_ = metrics.roc_curve(y_test, y_pred_proba)\n",
    "\n",
    "auc = metrics.roc_auc_score(y_test, y_pred_proba)\n",
    "print('Auc score:', auc)\n",
    "\n",
    "plt.title('Random Forest ROC')\n",
    "plt.plot(fpr,tpr,label=\"Random Forest model, auc\"+str(auc))\n",
    "plt.plot([0, 1], [0, 1], linestyle='--')\n",
    "plt.xlabel('False Positive Rate')\n",
    "plt.ylabel('True Positive Rate')\n",
    "plt.legend(loc=4)\n",
    "plt.show()"
   ]
  },
  {
   "cell_type": "code",
   "execution_count": 19,
   "metadata": {},
   "outputs": [
    {
     "name": "stdout",
     "output_type": "stream",
     "text": [
      "F1 0.9826773835920176\n",
      "Precision 1.0\n",
      "Recall 0.9659446941833537\n",
      "ROCAUC 0.9829723470916769\n"
     ]
    }
   ],
   "source": [
    "# Using XGBoost\n",
    "\n",
    "from xgboost import XGBClassifier\n",
    "\n",
    "xgb = XGBClassifier(learning_rate=0.0001)\n",
    "xgb.fit(X_train,y_train)\n",
    "y_pred = xgb.predict(X_test)\n",
    "\n",
    "f1 = f1_score(y_test, y_pred)\n",
    "print(\"F1\",f1)\n",
    "\n",
    "precision = precision_score(y_test, y_pred)\n",
    "print(\"Precision\",precision)\n",
    "\n",
    "recall = recall_score(y_test, y_pred)\n",
    "print(\"Recall\",recall)\n",
    "\n",
    "roc_auc = roc_auc_score(y_test, y_pred)\n",
    "print(\"ROCAUC\",roc_auc)"
   ]
  },
  {
   "cell_type": "code",
   "execution_count": 20,
   "metadata": {},
   "outputs": [
    {
     "name": "stdout",
     "output_type": "stream",
     "text": [
      "Confusion_matrix\n",
      " [[39705     0]\n",
      " [ 4221  3120]]\n",
      "Classification_report\n",
      "              precision    recall  f1-score   support\n",
      "\n",
      "           0       0.99      1.00      1.00     39705\n",
      "           1       1.00      0.97      0.98      7341\n",
      "\n",
      "    accuracy                           0.99     47046\n",
      "   macro avg       1.00      0.98      0.99     47046\n",
      "weighted avg       0.99      0.99      0.99     47046\n",
      "\n"
     ]
    }
   ],
   "source": [
    "print ('Confusion_matrix' + '\\n', confusion_matrix(y_test, rf.predict(X_test)))\n",
    "print ('Classification_report' + '\\n' + classification_report(y_test,y_pred))"
   ]
  },
  {
   "cell_type": "code",
   "execution_count": 21,
   "metadata": {},
   "outputs": [
    {
     "name": "stdout",
     "output_type": "stream",
     "text": [
      "Auc score: 0.9956280363622323\n"
     ]
    },
    {
     "data": {
      "image/png": "[encoded data removed]",
      "text/plain": [
       "<Figure size 432x288 with 1 Axes>"
      ]
     },
     "metadata": {
      "needs_background": "light"
     },
     "output_type": "display_data"
    }
   ],
   "source": [
    "y_pred_proba = xgb.predict_proba(X_test)[:,1]\n",
    "fpr,tpr,_ = metrics.roc_curve(y_test, y_pred_proba)\n",
    "\n",
    "auc = metrics.roc_auc_score(y_test, y_pred_proba)\n",
    "print('Auc score:', auc)\n",
    "\n",
    "plt.title('XGBoost ROC')\n",
    "plt.plot(fpr,tpr,label=\"XGBoost model, auc\"+str(auc))\n",
    "plt.plot([0, 1], [0, 1], linestyle='--')\n",
    "plt.xlabel('False Positive Rate')\n",
    "plt.ylabel('True Positive Rate')\n",
    "plt.legend(loc=4)\n",
    "plt.show()"
   ]
  }
 ],
 "metadata": {
  "kernelspec": {
   "display_name": "Python 3",
   "language": "python",
   "name": "python3"
  },
  "language_info": {
   "codemirror_mode": {
    "name": "ipython",
    "version": 3
   },
   "file_extension": ".py",
   "mimetype": "text/x-python",
   "name": "python",
   "nbconvert_exporter": "python",
   "pygments_lexer": "ipython3",
   "version": "3.7.4"
  }
 },
 "nbformat": 4,
 "nbformat_minor": 2
}
